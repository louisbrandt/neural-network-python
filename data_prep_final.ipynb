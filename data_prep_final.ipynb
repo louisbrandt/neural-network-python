{
 "cells": [
  {
   "cell_type": "code",
   "metadata": {
    "cell_id": "00000-ea7bd21f-499d-4d17-9f14-2fcc11abcafc",
    "deepnote_to_be_reexecuted": false,
    "execution_millis": 3745,
    "execution_start": 1641212674664,
    "source_hash": "2577d029",
    "tags": [],
    "deepnote_cell_type": "code"
   },
   "source": "import numpy as np\nimport pandas as pd\nfrom collections import Counter\nfrom imblearn.over_sampling import RandomOverSampler \nfrom sklearn.preprocessing import StandardScaler\nfrom matplotlib import pyplot as plt\nfrom sklearn.decomposition import PCA ",
   "outputs": [],
   "execution_count": 1
  },
  {
   "cell_type": "code",
   "metadata": {
    "cell_id": "00000-5f093013-6976-49f6-b175-7b3fbd7f598e",
    "deepnote_to_be_reexecuted": false,
    "execution_millis": 218,
    "execution_start": 1641212678422,
    "source_hash": "12521312",
    "tags": [],
    "deepnote_cell_type": "code"
   },
   "source": "# load in our training and test data\ndata_train = pd.read_csv('data/df_train.csv')\ndata_test = pd.read_csv('data/df_test.csv')\ntotal_data = pd.concat([data_train, data_test])\n\n\n# split data\nX_train = data_train[data_train.columns[0:-1]]\ny_train = data_train[data_train.columns[-1]]\nX_test = data_test[data_test.columns[0:-1]]\ny_test = data_test[data_test.columns[-1]]\n\nprint(X_train.shape, y_train.shape,X_test.shape,y_test.shape)",
   "outputs": [
    {
     "name": "stdout",
     "text": "(149, 9) (149,) (65, 9) (65,)\n",
     "output_type": "stream",
     "data": {}
    }
   ],
   "execution_count": 2
  },
  {
   "cell_type": "code",
   "metadata": {
    "cell_id": "00001-d1fed47f-0540-4b5a-a2c3-3177188d0c44",
    "deepnote_to_be_reexecuted": false,
    "execution_millis": 1,
    "execution_start": 1641212678453,
    "source_hash": "230ee4e1",
    "tags": [],
    "deepnote_cell_type": "code"
   },
   "source": "#Min Max Normalisation\ndef normalise_data(X):\n    for column in X.columns:\n        X[column] = normalise(X[column])\n    return X\ndef normalise(column):\n    min_column = column.min()\n    max_column = column.max()\n    normaliser = lambda entry: (entry-min_column)/(max_column-min_column + 0.000001)\n    column = column.apply(normaliser)\n    return column\n\n# Data standardization\nnorm = StandardScaler()\n\ndef missing_values(X_train):        \n    if len(np.unique(X_train.notna())) < 1:\n        print('The Dataset contains missing values and must be addressed')\n    else:\n        print('The Dataset does not contain any missing Values')\n\nmissing_values(X_train)\n",
   "outputs": [
    {
     "name": "stdout",
     "text": "The Dataset does not contain any missing Values\n",
     "output_type": "stream",
     "data": {}
    }
   ],
   "execution_count": 3
  },
  {
   "cell_type": "code",
   "metadata": {
    "cell_id": "00003-5cf8d3cc-c370-4983-979c-3ac739b59521",
    "deepnote_to_be_reexecuted": false,
    "execution_millis": 166,
    "execution_start": 1641212678475,
    "source_hash": "f323388d",
    "tags": [],
    "deepnote_cell_type": "code"
   },
   "source": "# Normalise data\nX_train_norm = norm.fit_transform(X_train)\nX_test_norm = norm.fit_transform(X_test)\n\n#X_train_norm = normalise_data(X_train)\n#X_test_norm = normalise_data(X_test)\n\n\n# Export to csv\nX_train.to_csv('data/X_train.csv',index=False)\ny_train.to_csv('data/y_train.csv',index=False)\n\nX_train_norm = pd.DataFrame(X_train_norm)\nX_train_norm.to_csv('data/X_train_normalised.csv',index=False)\nX_test_norm = pd.DataFrame(X_test_norm)\nX_test_norm.to_csv('data/X_test_normalised.csv',index=False)\n\n\n# Synthetic data\nros = RandomOverSampler(random_state=0)\nX_res, y_res = ros.fit_resample(X_train_norm, y_train)\n\nX_res.to_csv('data/X_train_synth.csv',index=False)\ny_res.to_csv('data/y_train_synth.csv',index=False)\n\nX_test.to_csv('data/X_test.csv',index=False)\ny_test.to_csv('data/y_test.csv',index=False)\n\n# len of synth dataset is 318 - 53 * 6",
   "outputs": [],
   "execution_count": 4
  },
  {
   "cell_type": "code",
   "source": "### PCA\n\npca = PCA(n_components=3)\npca_ = pca.fit(X_train_norm)\nX_train_pca = pca_.transform(X_train_norm)\nX_test_pca = pca_.transform(X_test_norm)\n\nX_train_pca = pd.DataFrame(X_train_pca)\nX_test_pca = pd.DataFrame(X_test_pca)\nX_train_pca.to_csv('data/X_train_pca.csv',index=False)\nX_test_pca.to_csv('data/X_test_pca.csv',index=False)\n",
   "metadata": {
    "tags": [],
    "cell_id": "00004-c3d9ac30-8d86-483e-89d3-cc1453c254ba",
    "deepnote_to_be_reexecuted": false,
    "source_hash": "c1b44db1",
    "execution_start": 1641212678572,
    "execution_millis": 1,
    "deepnote_cell_type": "code"
   },
   "outputs": [],
   "execution_count": 5
  },
  {
   "cell_type": "code",
   "metadata": {
    "cell_id": "00005-86e0a516-cb78-4014-bdae-14d37aee0793",
    "deepnote_to_be_reexecuted": false,
    "source_hash": "155decd8",
    "execution_start": 1641212678573,
    "execution_millis": 138,
    "deepnote_cell_type": "code"
   },
   "source": "total_data.describe()",
   "execution_count": 6,
   "outputs": [
    {
     "output_type": "execute_result",
     "execution_count": 6,
     "data": {
      "application/vnd.deepnote.dataframe.v3+json": {
       "column_count": 10,
       "row_count": 8,
       "columns": [
        {
         "name": "RI",
         "dtype": "float64",
         "stats": {
          "unique_count": 8,
          "nan_count": 0,
          "min": "0.0030368637393854347",
          "max": "214.0",
          "histogram": [
           {
            "bin_start": 0.0030368637393854347,
            "bin_end": 21.402733177365445,
            "count": 7
           },
           {
            "bin_start": 21.402733177365445,
            "bin_end": 42.8024294909915,
            "count": 0
           },
           {
            "bin_start": 42.8024294909915,
            "bin_end": 64.20212580461755,
            "count": 0
           },
           {
            "bin_start": 64.20212580461755,
            "bin_end": 85.60182211824362,
            "count": 0
           },
           {
            "bin_start": 85.60182211824362,
            "bin_end": 107.00151843186968,
            "count": 0
           },
           {
            "bin_start": 107.00151843186968,
            "bin_end": 128.40121474549574,
            "count": 0
           },
           {
            "bin_start": 128.40121474549574,
            "bin_end": 149.8009110591218,
            "count": 0
           },
           {
            "bin_start": 149.8009110591218,
            "bin_end": 171.20060737274787,
            "count": 0
           },
           {
            "bin_start": 171.20060737274787,
            "bin_end": 192.60030368637393,
            "count": 0
           },
           {
            "bin_start": 192.60030368637393,
            "bin_end": 214,
            "count": 1
           }
          ]
         }
        },
        {
         "name": "Na",
         "dtype": "float64",
         "stats": {
          "unique_count": 8,
          "nan_count": 0,
          "min": "0.8166035557149831",
          "max": "214.0",
          "histogram": [
           {
            "bin_start": 0.8166035557149831,
            "bin_end": 22.134943200143486,
            "count": 7
           },
           {
            "bin_start": 22.134943200143486,
            "bin_end": 43.45328284457199,
            "count": 0
           },
           {
            "bin_start": 43.45328284457199,
            "bin_end": 64.77162248900048,
            "count": 0
           },
           {
            "bin_start": 64.77162248900048,
            "bin_end": 86.08996213342898,
            "count": 0
           },
           {
            "bin_start": 86.08996213342898,
            "bin_end": 107.40830177785749,
            "count": 0
           },
           {
            "bin_start": 107.40830177785749,
            "bin_end": 128.72664142228598,
            "count": 0
           },
           {
            "bin_start": 128.72664142228598,
            "bin_end": 150.04498106671448,
            "count": 0
           },
           {
            "bin_start": 150.04498106671448,
            "bin_end": 171.363320711143,
            "count": 0
           },
           {
            "bin_start": 171.363320711143,
            "bin_end": 192.6816603555715,
            "count": 0
           },
           {
            "bin_start": 192.6816603555715,
            "bin_end": 214,
            "count": 1
           }
          ]
         }
        },
        {
         "name": "Mg",
         "dtype": "float64",
         "stats": {
          "unique_count": 8,
          "nan_count": 0,
          "min": "0.0",
          "max": "214.0",
          "histogram": [
           {
            "bin_start": 0,
            "bin_end": 21.4,
            "count": 7
           },
           {
            "bin_start": 21.4,
            "bin_end": 42.8,
            "count": 0
           },
           {
            "bin_start": 42.8,
            "bin_end": 64.19999999999999,
            "count": 0
           },
           {
            "bin_start": 64.19999999999999,
            "bin_end": 85.6,
            "count": 0
           },
           {
            "bin_start": 85.6,
            "bin_end": 107,
            "count": 0
           },
           {
            "bin_start": 107,
            "bin_end": 128.39999999999998,
            "count": 0
           },
           {
            "bin_start": 128.39999999999998,
            "bin_end": 149.79999999999998,
            "count": 0
           },
           {
            "bin_start": 149.79999999999998,
            "bin_end": 171.2,
            "count": 0
           },
           {
            "bin_start": 171.2,
            "bin_end": 192.6,
            "count": 0
           },
           {
            "bin_start": 192.6,
            "bin_end": 214,
            "count": 1
           }
          ]
         }
        },
        {
         "name": "Al",
         "dtype": "float64",
         "stats": {
          "unique_count": 8,
          "nan_count": 0,
          "min": "0.29",
          "max": "214.0",
          "histogram": [
           {
            "bin_start": 0.29,
            "bin_end": 21.661,
            "count": 7
           },
           {
            "bin_start": 21.661,
            "bin_end": 43.032000000000004,
            "count": 0
           },
           {
            "bin_start": 43.032000000000004,
            "bin_end": 64.403,
            "count": 0
           },
           {
            "bin_start": 64.403,
            "bin_end": 85.77400000000002,
            "count": 0
           },
           {
            "bin_start": 85.77400000000002,
            "bin_end": 107.14500000000002,
            "count": 0
           },
           {
            "bin_start": 107.14500000000002,
            "bin_end": 128.516,
            "count": 0
           },
           {
            "bin_start": 128.516,
            "bin_end": 149.887,
            "count": 0
           },
           {
            "bin_start": 149.887,
            "bin_end": 171.258,
            "count": 0
           },
           {
            "bin_start": 171.258,
            "bin_end": 192.62900000000002,
            "count": 0
           },
           {
            "bin_start": 192.62900000000002,
            "bin_end": 214,
            "count": 1
           }
          ]
         }
        },
        {
         "name": "Si",
         "dtype": "float64",
         "stats": {
          "unique_count": 8,
          "nan_count": 0,
          "min": "0.7745457947651124",
          "max": "214.0",
          "histogram": [
           {
            "bin_start": 0.7745457947651124,
            "bin_end": 22.097091215288604,
            "count": 1
           },
           {
            "bin_start": 22.097091215288604,
            "bin_end": 43.41963663581209,
            "count": 0
           },
           {
            "bin_start": 43.41963663581209,
            "bin_end": 64.74218205633558,
            "count": 0
           },
           {
            "bin_start": 64.74218205633558,
            "bin_end": 86.06472747685908,
            "count": 6
           },
           {
            "bin_start": 86.06472747685908,
            "bin_end": 107.38727289738256,
            "count": 0
           },
           {
            "bin_start": 107.38727289738256,
            "bin_end": 128.70981831790604,
            "count": 0
           },
           {
            "bin_start": 128.70981831790604,
            "bin_end": 150.03236373842955,
            "count": 0
           },
           {
            "bin_start": 150.03236373842955,
            "bin_end": 171.35490915895303,
            "count": 0
           },
           {
            "bin_start": 171.35490915895303,
            "bin_end": 192.67745457947652,
            "count": 0
           },
           {
            "bin_start": 192.67745457947652,
            "bin_end": 214,
            "count": 1
           }
          ]
         }
        },
        {
         "name": "K",
         "dtype": "float64",
         "stats": {
          "unique_count": 8,
          "nan_count": 0,
          "min": "0.0",
          "max": "214.0",
          "histogram": [
           {
            "bin_start": 0,
            "bin_end": 21.4,
            "count": 7
           },
           {
            "bin_start": 21.4,
            "bin_end": 42.8,
            "count": 0
           },
           {
            "bin_start": 42.8,
            "bin_end": 64.19999999999999,
            "count": 0
           },
           {
            "bin_start": 64.19999999999999,
            "bin_end": 85.6,
            "count": 0
           },
           {
            "bin_start": 85.6,
            "bin_end": 107,
            "count": 0
           },
           {
            "bin_start": 107,
            "bin_end": 128.39999999999998,
            "count": 0
           },
           {
            "bin_start": 128.39999999999998,
            "bin_end": 149.79999999999998,
            "count": 0
           },
           {
            "bin_start": 149.79999999999998,
            "bin_end": 171.2,
            "count": 0
           },
           {
            "bin_start": 171.2,
            "bin_end": 192.6,
            "count": 0
           },
           {
            "bin_start": 192.6,
            "bin_end": 214,
            "count": 1
           }
          ]
         }
        },
        {
         "name": "Ca",
         "dtype": "float64",
         "stats": {
          "unique_count": 8,
          "nan_count": 0,
          "min": "1.423153487281395",
          "max": "214.0",
          "histogram": [
           {
            "bin_start": 1.423153487281395,
            "bin_end": 22.680838138553256,
            "count": 7
           },
           {
            "bin_start": 22.680838138553256,
            "bin_end": 43.93852278982512,
            "count": 0
           },
           {
            "bin_start": 43.93852278982512,
            "bin_end": 65.19620744109699,
            "count": 0
           },
           {
            "bin_start": 65.19620744109699,
            "bin_end": 86.45389209236885,
            "count": 0
           },
           {
            "bin_start": 86.45389209236885,
            "bin_end": 107.7115767436407,
            "count": 0
           },
           {
            "bin_start": 107.7115767436407,
            "bin_end": 128.96926139491256,
            "count": 0
           },
           {
            "bin_start": 128.96926139491256,
            "bin_end": 150.22694604618442,
            "count": 0
           },
           {
            "bin_start": 150.22694604618442,
            "bin_end": 171.48463069745628,
            "count": 0
           },
           {
            "bin_start": 171.48463069745628,
            "bin_end": 192.74231534872814,
            "count": 0
           },
           {
            "bin_start": 192.74231534872814,
            "bin_end": 214,
            "count": 1
           }
          ]
         }
        },
        {
         "name": "Ba",
         "dtype": "float64",
         "stats": {
          "unique_count": 5,
          "nan_count": 0,
          "min": "0.0",
          "max": "214.0",
          "histogram": [
           {
            "bin_start": 0,
            "bin_end": 21.4,
            "count": 7
           },
           {
            "bin_start": 21.4,
            "bin_end": 42.8,
            "count": 0
           },
           {
            "bin_start": 42.8,
            "bin_end": 64.19999999999999,
            "count": 0
           },
           {
            "bin_start": 64.19999999999999,
            "bin_end": 85.6,
            "count": 0
           },
           {
            "bin_start": 85.6,
            "bin_end": 107,
            "count": 0
           },
           {
            "bin_start": 107,
            "bin_end": 128.39999999999998,
            "count": 0
           },
           {
            "bin_start": 128.39999999999998,
            "bin_end": 149.79999999999998,
            "count": 0
           },
           {
            "bin_start": 149.79999999999998,
            "bin_end": 171.2,
            "count": 0
           },
           {
            "bin_start": 171.2,
            "bin_end": 192.6,
            "count": 0
           },
           {
            "bin_start": 192.6,
            "bin_end": 214,
            "count": 1
           }
          ]
         }
        },
        {
         "name": "Fe",
         "dtype": "float64",
         "stats": {
          "unique_count": 6,
          "nan_count": 0,
          "min": "0.0",
          "max": "214.0",
          "histogram": [
           {
            "bin_start": 0,
            "bin_end": 21.4,
            "count": 7
           },
           {
            "bin_start": 21.4,
            "bin_end": 42.8,
            "count": 0
           },
           {
            "bin_start": 42.8,
            "bin_end": 64.19999999999999,
            "count": 0
           },
           {
            "bin_start": 64.19999999999999,
            "bin_end": 85.6,
            "count": 0
           },
           {
            "bin_start": 85.6,
            "bin_end": 107,
            "count": 0
           },
           {
            "bin_start": 107,
            "bin_end": 128.39999999999998,
            "count": 0
           },
           {
            "bin_start": 128.39999999999998,
            "bin_end": 149.79999999999998,
            "count": 0
           },
           {
            "bin_start": 149.79999999999998,
            "bin_end": 171.2,
            "count": 0
           },
           {
            "bin_start": 171.2,
            "bin_end": 192.6,
            "count": 0
           },
           {
            "bin_start": 192.6,
            "bin_end": 214,
            "count": 1
           }
          ]
         }
        },
        {
         "name": "type",
         "dtype": "float64",
         "stats": {
          "unique_count": 7,
          "nan_count": 0,
          "min": "1.0",
          "max": "214.0",
          "histogram": [
           {
            "bin_start": 1,
            "bin_end": 22.3,
            "count": 7
           },
           {
            "bin_start": 22.3,
            "bin_end": 43.6,
            "count": 0
           },
           {
            "bin_start": 43.6,
            "bin_end": 64.9,
            "count": 0
           },
           {
            "bin_start": 64.9,
            "bin_end": 86.2,
            "count": 0
           },
           {
            "bin_start": 86.2,
            "bin_end": 107.5,
            "count": 0
           },
           {
            "bin_start": 107.5,
            "bin_end": 128.8,
            "count": 0
           },
           {
            "bin_start": 128.8,
            "bin_end": 150.1,
            "count": 0
           },
           {
            "bin_start": 150.1,
            "bin_end": 171.4,
            "count": 0
           },
           {
            "bin_start": 171.4,
            "bin_end": 192.70000000000002,
            "count": 0
           },
           {
            "bin_start": 192.70000000000002,
            "bin_end": 214,
            "count": 1
           }
          ]
         }
        },
        {
         "name": "_deepnote_index_column",
         "dtype": "object"
        }
       ],
       "rows": [
        {
         "RI": 214,
         "Na": 214,
         "Mg": 214,
         "Al": 214,
         "Si": 214,
         "K": 214,
         "Ca": 214,
         "Ba": 214,
         "Fe": 214,
         "type": 214,
         "_deepnote_index_column": "count"
        },
        {
         "RI": 1.5183654205607477,
         "Na": 13.407850467289718,
         "Mg": 2.684532710280374,
         "Al": 1.4449065420560747,
         "Si": 72.65093457943925,
         "K": 0.49705607476635516,
         "Ca": 8.95696261682243,
         "Ba": 0.17504672897196258,
         "Fe": 0.05700934579439252,
         "type": 2.7803738317757007,
         "_deepnote_index_column": "mean"
        },
        {
         "RI": 0.0030368637393854347,
         "Na": 0.8166035557149831,
         "Mg": 1.4424078448704423,
         "Al": 0.49926964560048454,
         "Si": 0.7745457947651124,
         "K": 0.6521918455589798,
         "Ca": 1.423153487281395,
         "Ba": 0.4972192605997035,
         "Fe": 0.09743870063650086,
         "type": 2.103738646200754,
         "_deepnote_index_column": "std"
        },
        {
         "RI": 1.51115,
         "Na": 10.73,
         "Mg": 0,
         "Al": 0.29,
         "Si": 69.81,
         "K": 0,
         "Ca": 5.43,
         "Ba": 0,
         "Fe": 0,
         "type": 1,
         "_deepnote_index_column": "min"
        },
        {
         "RI": 1.5165225000000002,
         "Na": 12.9075,
         "Mg": 2.1149999999999998,
         "Al": 1.19,
         "Si": 72.28,
         "K": 0.1225,
         "Ca": 8.24,
         "Ba": 0,
         "Fe": 0,
         "type": 1,
         "_deepnote_index_column": "25%"
        },
        {
         "RI": 1.51768,
         "Na": 13.3,
         "Mg": 3.48,
         "Al": 1.36,
         "Si": 72.79,
         "K": 0.555,
         "Ca": 8.6,
         "Ba": 0,
         "Fe": 0,
         "type": 2,
         "_deepnote_index_column": "50%"
        },
        {
         "RI": 1.5191575,
         "Na": 13.825000000000001,
         "Mg": 3.6,
         "Al": 1.63,
         "Si": 73.0875,
         "K": 0.61,
         "Ca": 9.1725,
         "Ba": 0,
         "Fe": 0.1,
         "type": 3,
         "_deepnote_index_column": "75%"
        },
        {
         "RI": 1.53393,
         "Na": 17.38,
         "Mg": 4.49,
         "Al": 3.5,
         "Si": 75.41,
         "K": 6.21,
         "Ca": 16.19,
         "Ba": 3.15,
         "Fe": 0.51,
         "type": 7,
         "_deepnote_index_column": "max"
        }
       ]
      },
      "text/plain": "               RI          Na          Mg          Al          Si           K  \\\ncount  214.000000  214.000000  214.000000  214.000000  214.000000  214.000000   \nmean     1.518365   13.407850    2.684533    1.444907   72.650935    0.497056   \nstd      0.003037    0.816604    1.442408    0.499270    0.774546    0.652192   \nmin      1.511150   10.730000    0.000000    0.290000   69.810000    0.000000   \n25%      1.516523   12.907500    2.115000    1.190000   72.280000    0.122500   \n50%      1.517680   13.300000    3.480000    1.360000   72.790000    0.555000   \n75%      1.519157   13.825000    3.600000    1.630000   73.087500    0.610000   \nmax      1.533930   17.380000    4.490000    3.500000   75.410000    6.210000   \n\n               Ca          Ba          Fe        type  \ncount  214.000000  214.000000  214.000000  214.000000  \nmean     8.956963    0.175047    0.057009    2.780374  \nstd      1.423153    0.497219    0.097439    2.103739  \nmin      5.430000    0.000000    0.000000    1.000000  \n25%      8.240000    0.000000    0.000000    1.000000  \n50%      8.600000    0.000000    0.000000    2.000000  \n75%      9.172500    0.000000    0.100000    3.000000  \nmax     16.190000    3.150000    0.510000    7.000000  ",
      "text/html": "<div>\n<style scoped>\n    .dataframe tbody tr th:only-of-type {\n        vertical-align: middle;\n    }\n\n    .dataframe tbody tr th {\n        vertical-align: top;\n    }\n\n    .dataframe thead th {\n        text-align: right;\n    }\n</style>\n<table border=\"1\" class=\"dataframe\">\n  <thead>\n    <tr style=\"text-align: right;\">\n      <th></th>\n      <th>RI</th>\n      <th>Na</th>\n      <th>Mg</th>\n      <th>Al</th>\n      <th>Si</th>\n      <th>K</th>\n      <th>Ca</th>\n      <th>Ba</th>\n      <th>Fe</th>\n      <th>type</th>\n    </tr>\n  </thead>\n  <tbody>\n    <tr>\n      <th>count</th>\n      <td>214.000000</td>\n      <td>214.000000</td>\n      <td>214.000000</td>\n      <td>214.000000</td>\n      <td>214.000000</td>\n      <td>214.000000</td>\n      <td>214.000000</td>\n      <td>214.000000</td>\n      <td>214.000000</td>\n      <td>214.000000</td>\n    </tr>\n    <tr>\n      <th>mean</th>\n      <td>1.518365</td>\n      <td>13.407850</td>\n      <td>2.684533</td>\n      <td>1.444907</td>\n      <td>72.650935</td>\n      <td>0.497056</td>\n      <td>8.956963</td>\n      <td>0.175047</td>\n      <td>0.057009</td>\n      <td>2.780374</td>\n    </tr>\n    <tr>\n      <th>std</th>\n      <td>0.003037</td>\n      <td>0.816604</td>\n      <td>1.442408</td>\n      <td>0.499270</td>\n      <td>0.774546</td>\n      <td>0.652192</td>\n      <td>1.423153</td>\n      <td>0.497219</td>\n      <td>0.097439</td>\n      <td>2.103739</td>\n    </tr>\n    <tr>\n      <th>min</th>\n      <td>1.511150</td>\n      <td>10.730000</td>\n      <td>0.000000</td>\n      <td>0.290000</td>\n      <td>69.810000</td>\n      <td>0.000000</td>\n      <td>5.430000</td>\n      <td>0.000000</td>\n      <td>0.000000</td>\n      <td>1.000000</td>\n    </tr>\n    <tr>\n      <th>25%</th>\n      <td>1.516523</td>\n      <td>12.907500</td>\n      <td>2.115000</td>\n      <td>1.190000</td>\n      <td>72.280000</td>\n      <td>0.122500</td>\n      <td>8.240000</td>\n      <td>0.000000</td>\n      <td>0.000000</td>\n      <td>1.000000</td>\n    </tr>\n    <tr>\n      <th>50%</th>\n      <td>1.517680</td>\n      <td>13.300000</td>\n      <td>3.480000</td>\n      <td>1.360000</td>\n      <td>72.790000</td>\n      <td>0.555000</td>\n      <td>8.600000</td>\n      <td>0.000000</td>\n      <td>0.000000</td>\n      <td>2.000000</td>\n    </tr>\n    <tr>\n      <th>75%</th>\n      <td>1.519157</td>\n      <td>13.825000</td>\n      <td>3.600000</td>\n      <td>1.630000</td>\n      <td>73.087500</td>\n      <td>0.610000</td>\n      <td>9.172500</td>\n      <td>0.000000</td>\n      <td>0.100000</td>\n      <td>3.000000</td>\n    </tr>\n    <tr>\n      <th>max</th>\n      <td>1.533930</td>\n      <td>17.380000</td>\n      <td>4.490000</td>\n      <td>3.500000</td>\n      <td>75.410000</td>\n      <td>6.210000</td>\n      <td>16.190000</td>\n      <td>3.150000</td>\n      <td>0.510000</td>\n      <td>7.000000</td>\n    </tr>\n  </tbody>\n</table>\n</div>"
     },
     "metadata": {}
    }
   ]
  },
  {
   "cell_type": "code",
   "source": "summ = total_data[total_data.columns[1:-1]]\nrecordsum = summ.sum(axis =1)\n\nprint(recordsum.min(),recordsum.mean(),recordsum.max())",
   "metadata": {
    "tags": [],
    "cell_id": "00005-1b8e8f6d-63c0-42cc-a253-519f85ce08c4",
    "deepnote_to_be_reexecuted": false,
    "source_hash": "7beab72",
    "execution_start": 1641212678774,
    "execution_millis": 2,
    "deepnote_cell_type": "code"
   },
   "outputs": [
    {
     "name": "stdout",
     "text": "99.02 99.87429906542056 100.09999999999998\n",
     "output_type": "stream",
     "data": {}
    }
   ],
   "execution_count": 7
  },
  {
   "cell_type": "code",
   "source": "cla = {class_c : len(total_data[total_data['type']==class_c]) for class_c in np.unique([total_data['type']])}\nc=[]\nn = []\nfor clas, entries in cla.items():\n    c.append(clas)\n    n.append(entries)\nplt.bar(c, n, color=['#DCDCDC', '#D3D3D3', '#C0C0C0', '#A9A9A9', '#808080','#696969','#778899'])\nplt.xlabel('Class')\nplt.ylabel('Instances')",
   "metadata": {
    "tags": [],
    "cell_id": "00006-fb21360b-ce10-4c8c-abc4-38ee7051251b",
    "deepnote_to_be_reexecuted": false,
    "source_hash": "3bdf8fdc",
    "execution_start": 1641212678775,
    "execution_millis": 296,
    "deepnote_output_heights": [
     21.1875,
     264
    ],
    "deepnote_cell_type": "code"
   },
   "outputs": [
    {
     "output_type": "execute_result",
     "execution_count": 8,
     "data": {
      "text/plain": "Text(0, 0.5, 'Instances')"
     },
     "metadata": {}
    },
    {
     "data": {
      "text/plain": "<Figure size 432x288 with 1 Axes>",
      "image/png": "[encoded data removed]"
     },
     "metadata": {
      "needs_background": "light",
      "image/png": {
       "width": 382,
       "height": 262
      }
     },
     "output_type": "display_data"
    }
   ],
   "execution_count": 8
  },
  {
   "cell_type": "markdown",
   "source": "<a style='text-decoration:none;line-height:16px;display:flex;color:#5B5B62;padding:10px;justify-content:end;' href='https://deepnote.com?utm_source=created-in-deepnote-cell&projectId=d3705a64-676d-4660-b6e8-fa8b10c2e69e' target=\"_blank\">\n<img alt='Created in deepnote.com' style='display:inline;max-height:16px;margin:0px;margin-right:7.5px;' src='data:image/svg+xml;base64,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' > </img>\nCreated in <span style='font-weight:600;margin-left:4px;'>Deepnote</span></a>",
   "metadata": {
    "tags": [],
    "created_in_deepnote_cell": true,
    "deepnote_cell_type": "markdown"
   }
  }
 ],
 "nbformat": 4,
 "nbformat_minor": 2,
 "metadata": {
  "deepnote": {
   "is_reactive": false
  },
  "deepnote_execution_queue": [],
  "deepnote_notebook_id": "26ed653f-a142-4495-866f-27e659b857bd",
  "interpreter": {
   "hash": "b3ba2566441a7c06988d0923437866b63cedc61552a5af99d1f4fb67d367b25f"
  },
  "kernelspec": {
   "display_name": "Python 3.8.5 64-bit ('base': conda)",
   "language": "python",
   "name": "python3"
  },
  "language_info": {
   "codemirror_mode": {
    "name": "ipython",
    "version": 3
   },
   "file_extension": ".py",
   "mimetype": "text/x-python",
   "name": "python",
   "nbconvert_exporter": "python",
   "pygments_lexer": "ipython3",
   "version": "3.8.5"
  },
  "orig_nbformat": 2
 }
}